{
  "nbformat": 4,
  "nbformat_minor": 0,
  "metadata": {
    "colab": {
      "provenance": [],
      "include_colab_link": true
    },
    "kernelspec": {
      "name": "python3",
      "display_name": "Python 3"
    },
    "language_info": {
      "name": "python"
    }
  },
  "cells": [
    {
      "cell_type": "markdown",
      "metadata": {
        "id": "view-in-github",
        "colab_type": "text"
      },
      "source": [
        "<a href=\"https://colab.research.google.com/github/melhiordes/backend_test_homework/blob/master/%D0%94%D0%BE%D0%BC%D0%B0%D1%88%D0%BD%D0%B5%D0%B5_%D0%B7%D0%B0%D0%B4%D0%B0%D0%BD%D0%B8%D0%B5.ipynb\" target=\"_parent\"><img src=\"https://colab.research.google.com/assets/colab-badge.svg\" alt=\"Open In Colab\"/></a>"
      ]
    },
    {
      "cell_type": "markdown",
      "metadata": {
        "id": "3iE7SlVLJzFj"
      },
      "source": [
        "# Условия. Домашнее задание\n",
        "\n",
        "### Цели домашнего задания\n",
        "- Научиться самостоятельно писать программы с условиями, используя конструкции if, elif, else.\n",
        "- Повторить условные операторы.\n",
        "- Научиться обходить ошибки.\n",
        "\n",
        "### Что нужно сделать\n",
        "Скачайте файл с описанием задания, откройте его через Jupyter Notebook и выполните предложенные задачи.\n",
        "\n",
        "### Что оценивается\n",
        "Для каждой задачи:\n",
        "- Программа выполняет все описанные в задаче действия.\n",
        "- Результаты вычислений и применённых операций корректны.\n",
        "- Вывод производится в том виде, который описан в задаче.\n",
        "- Переменные имеют информативные названия.\n",
        "\n",
        "Работа засчитывается, если в каждой задаче вы верно выполнили хотя бы один из вариантов.\n",
        "\n",
        "### Как отправить задание на проверку\n",
        "Выполните предложенные задачи, сохраните изменения, используя опцию Save and Checkpoint из вкладки меню File или кнопку Save and Checkpoint на панели инструментов. Итоговый файл .ipynb (файл Jupyter Notebook) или ссылку на него отправьте через форму ниже.\n"
      ]
    },
    {
      "cell_type": "markdown",
      "metadata": {
        "id": "ox1eK32yNqUe"
      },
      "source": [
        "1. Напишите программу, которая запрашивает на ввод целое число, проверяет, является ли число чётным. Если число чётное — выводит на экран «Это чётное число», если число нечётное — выводит «Это нечётное число»."
      ]
    },
    {
      "cell_type": "code",
      "metadata": {
        "id": "jnzimAHGKFiq",
        "colab": {
          "base_uri": "https://localhost:8080/"
        },
        "outputId": "e43900e8-b6e7-4968-fe4e-46d189c9bf33"
      },
      "source": [
        "# Запрашиваем число на ввод и сохраняем его в переменную\n",
        "number = int(input())\n",
        "\n",
        "# Пишем условие с помощью if и else\n",
        "\n",
        "if number % 2 == 0:\n",
        "  print('Это чётное число')\n",
        "else:\n",
        "  print('Это нечётное число')"
      ],
      "execution_count": null,
      "outputs": [
        {
          "output_type": "stream",
          "name": "stdout",
          "text": [
            "2\n",
            "Это чётное число\n"
          ]
        }
      ]
    },
    {
      "cell_type": "markdown",
      "metadata": {
        "id": "DLvHACXEQEND"
      },
      "source": [
        "2. Напишите программу, которая запрашивает на ввод число и проверяет, является ли оно положительным или отрицательным. Если число положительное — программа умножает его на два и выводит на экран новое значение. Если число отрицательное — делит его на три и выводит на экран новое значение. Если ввели ноль — выводит сообщение, что введённое число равно нулю."
      ]
    },
    {
      "cell_type": "markdown",
      "source": [],
      "metadata": {
        "id": "ql71j0kL6zVY"
      }
    },
    {
      "cell_type": "code",
      "metadata": {
        "id": "fmzq6ttNRIlq",
        "colab": {
          "base_uri": "https://localhost:8080/"
        },
        "outputId": "513c1412-63f8-49ef-c6b3-375ace32bac2"
      },
      "source": [
        "# Запрашиваем число на ввод и сохраняем его в переменную\n",
        "number = int(input())\n",
        "\n",
        "# Пишем условие с помощью if, elif и else\n",
        "\n",
        "if number > 0:\n",
        "  print(number * 2)\n",
        "elif number == 0:\n",
        "  print('Введённое число равно нулю')\n",
        "else:\n",
        "  print(number / 3)"
      ],
      "execution_count": 1,
      "outputs": [
        {
          "output_type": "stream",
          "name": "stdout",
          "text": [
            "-3\n",
            "-1.0\n"
          ]
        }
      ]
    },
    {
      "cell_type": "markdown",
      "metadata": {
        "id": "KWpUGm0LSAnR"
      },
      "source": [
        "3. Напишите программу, которая запрашивает на ввод целое число. Если квадрат этого числа больше или равен 100, программа должна сообщить, что это двузначное число. После этого нужно проверить, положительное оно или отрицательное, и вывести ответ на экран. Если квадрат числа меньше 100, надо проверить, чётное оно или нечётное и также вывести ответ на экран.\n"
      ]
    },
    {
      "cell_type": "code",
      "metadata": {
        "id": "e2eYF18ISBpz",
        "colab": {
          "base_uri": "https://localhost:8080/"
        },
        "outputId": "703aca7e-2c55-4053-90e1-6a276c4b6e80"
      },
      "source": [
        "# Запрашиваем число на ввод и сохраняем его в переменную\n",
        "number = int(input())\n",
        "\n",
        "# Используем вложенные условия\n",
        "if number ** 2 >= 100:\n",
        "  print('Это двухзначное число') #Почему это двухзначное число, если я могу ввести 100 и больше?!\n",
        "  if number ** 2 <= 100:\n",
        "    if number % 2 == 0: #Зачем я делаю проверку, если вывожу число в любом случае?!\n",
        "      print(number)\n",
        "    else:\n",
        "      print(number)\n"
      ],
      "execution_count": null,
      "outputs": [
        {
          "output_type": "stream",
          "name": "stdout",
          "text": [
            "100\n",
            "Это двухзначное число\n"
          ]
        }
      ]
    },
    {
      "cell_type": "markdown",
      "metadata": {
        "id": "G6zmz--CVg-h"
      },
      "source": [
        "4. Напишите одну и ту же программу тремя способами. Программа должна запрашивать на ввод любое значение. Если на ввод ничего не получено, программа должна выводить сообщение «Вы ничего не ввели». Если получено хоть что-то, программа должна выводить на экран то, что она получила на ввод.\n",
        "Напишите три варианта: используя оператор not, используя оператор сравнения != и используя переменную в качестве булева значения.\n"
      ]
    },
    {
      "cell_type": "code",
      "metadata": {
        "id": "zTDAGFQBRRn2",
        "colab": {
          "base_uri": "https://localhost:8080/"
        },
        "outputId": "e100f148-d8a5-405c-e0de-e685995341a3"
      },
      "source": [
        "# Запрашиваем что-то на ввод\n",
        "word = input()\n",
        "if not word == '':\n",
        "  print(word)\n",
        "else:\n",
        "  print('Вы ничего не ввели')\n",
        "\n",
        "# Пишем программу, используя not\n",
        "\n"
      ],
      "execution_count": null,
      "outputs": [
        {
          "output_type": "stream",
          "name": "stdout",
          "text": [
            "\n",
            "Вы ничего не ввели\n"
          ]
        }
      ]
    },
    {
      "cell_type": "code",
      "metadata": {
        "id": "xphTS5YvW14J",
        "colab": {
          "base_uri": "https://localhost:8080/"
        },
        "outputId": "173a529d-aa53-40b5-bc37-637aa9cbe447"
      },
      "source": [
        "# Запрашиваем что-то на ввод\n",
        "word = input()\n",
        "if word != '':\n",
        "    print(word)\n",
        "else:\n",
        "  print('Вы ничего не ввели')\n",
        "\n",
        "# Пишем программу, используя оператор сравнения !=\n",
        "\n"
      ],
      "execution_count": null,
      "outputs": [
        {
          "output_type": "stream",
          "name": "stdout",
          "text": [
            "\n",
            "Вы ничего не ввели\n"
          ]
        }
      ]
    },
    {
      "cell_type": "code",
      "metadata": {
        "id": "kOL4g6awW5ZI",
        "colab": {
          "base_uri": "https://localhost:8080/"
        },
        "outputId": "5466cb59-5e01-4dd0-988d-813da5089ba2"
      },
      "source": [
        "# Запрашиваем что-то на ввод\n",
        "word = input()\n",
        "if word:\n",
        "  print(word)\n",
        "else:\n",
        "  print('Вы ничего не ввели')\n",
        "# Пишем программу, используя переменную word как булево значение. Пустая строка значит False, любая непустая строка значит True\n",
        "\n"
      ],
      "execution_count": null,
      "outputs": [
        {
          "output_type": "stream",
          "name": "stdout",
          "text": [
            "\n",
            "Вы ничего не ввели\n"
          ]
        }
      ]
    },
    {
      "cell_type": "markdown",
      "metadata": {
        "id": "HpvK5UU2YwqM"
      },
      "source": [
        "5. В приведённом ниже примере поправьте отступы так, чтобы программа исполнялась корректно."
      ]
    },
    {
      "cell_type": "code",
      "metadata": {
        "id": "M2c71k3obLcc",
        "colab": {
          "base_uri": "https://localhost:8080/"
        },
        "outputId": "c8fe67db-551a-4ca8-e005-2cbcdef9eec9"
      },
      "source": [
        "number = int(input('Введите целое число'))\n",
        "if number > 5:\n",
        "  square = number ** 2\n",
        "  print('Квадрат введенного числа равен', square)\n",
        "else:\n",
        "  cubed = number ** 3\n",
        "  print('Куб введенного числа равен', cubed)"
      ],
      "execution_count": null,
      "outputs": [
        {
          "output_type": "stream",
          "name": "stdout",
          "text": [
            "Введите целое число6\n",
            "Квадрат введенного числа равен 36\n"
          ]
        }
      ]
    },
    {
      "cell_type": "markdown",
      "metadata": {
        "id": "9XFupGaMeYhH"
      },
      "source": [
        "6. В приведённом примере поправьте отступы так, чтобы ответы программы стали логически соответствовать введённым параметрам."
      ]
    },
    {
      "cell_type": "code",
      "metadata": {
        "id": "TxJ5HgsKa5Mg",
        "colab": {
          "base_uri": "https://localhost:8080/"
        },
        "outputId": "d6549bf7-a2b5-475c-b18a-4fe83896e63c"
      },
      "source": [
        "animal = input(\"У вас кошка или собака?\")\n",
        "weight = float(input(\"Сколько он/она весит?\"))\n",
        "\n",
        "if animal == 'кошка':\n",
        "  print('У вас кошка - это прекрасно!')\n",
        "elif animal == 'собака':\n",
        "  print('У вас собака - замечательно!')\n",
        "  if weight > 20:\n",
        "    print(\"Понятно, это большая собака\")\n",
        "else:\n",
        "  print(\"У вас не собака и не кошка. Ясно.\")"
      ],
      "execution_count": null,
      "outputs": [
        {
          "output_type": "stream",
          "name": "stdout",
          "text": [
            "У вас кошка или собака?Зерг\n",
            "Сколько он/она весит?6\n",
            "У вас не собака и не кошка. Ясно.\n"
          ]
        }
      ]
    },
    {
      "cell_type": "markdown",
      "metadata": {
        "id": "muWVQqbRmzVl"
      },
      "source": [
        "7. Предположим, что вы (внезапно!) занимаетесь программой улучшения жилищных условий населения. Вы работаете с базой данных, где есть информация о жилой площади квартир и количестве зарегистрированных в них людей. У вас есть простая программа, которая принимает на ввод два этих параметра, а на печать выводит площадь, делённую на количество жильцов."
      ]
    },
    {
      "cell_type": "code",
      "metadata": {
        "id": "1IEQ9SqFk3_f"
      },
      "source": [
        "# Записываем ввод данных\n",
        "space = float(input('Введите площадь квартиры'))\n",
        "residents = int(input('Введите количество зарегистрированных жильцов'))\n",
        "\n",
        "# Выводим результат деления одного на другое\n",
        "\n",
        "print('На каждого жильца приходится по', space / residents, 'квадратных метров жилой площади')"
      ],
      "execution_count": null,
      "outputs": []
    },
    {
      "cell_type": "markdown",
      "metadata": {
        "id": "XNhqI1jDpXmm"
      },
      "source": [
        "Но есть такие квартиры, где никто не зарегистрирован. И когда вы вводите количество жильцов, равное нулю, программа выдаёт ошибку, потому что делить на ноль нельзя.\n",
        "\n",
        "Измените программу так, чтобы она выполнялась даже при введения нуля в знаменателе и вместо ошибки выводила сообщение о том, что не удалось посчитать значение.\n",
        "\n",
        "Сделайте это двумя способами: с помощью условий if, else и с помощью конструкции try, except.\n"
      ]
    },
    {
      "cell_type": "code",
      "metadata": {
        "id": "hhdkS4okpE1d",
        "colab": {
          "base_uri": "https://localhost:8080/"
        },
        "outputId": "eed179a5-4c3c-421b-9da9-33bac1aa64ef"
      },
      "source": [
        "# Первый вариант\n",
        "# Записываем ввод данных\n",
        "space = float(input('Введите площадь квартиры'))\n",
        "residents = int(input('Введите количество зарегистрированных жильцов'))\n",
        "\n",
        "# Проверяем с помощью условий if, else и выводим результат деления площади на количество или сообщение о том, что деление не получилось\n",
        "if residents > 0:\n",
        "  print('На каждого жильца приходится по', space / residents, 'квадратных метров жилой площади')\n",
        "else:\n",
        "  print('Не получилось')"
      ],
      "execution_count": null,
      "outputs": [
        {
          "output_type": "stream",
          "name": "stdout",
          "text": [
            "Введите площадь квартиры15\n",
            "Введите количество зарегистрированных жильцов15\n",
            "На каждого жильца приходится по 1.0 квадратных метров жилой площади\n"
          ]
        }
      ]
    },
    {
      "cell_type": "code",
      "metadata": {
        "id": "O-q-AtlQreG6",
        "colab": {
          "base_uri": "https://localhost:8080/"
        },
        "outputId": "b029c418-3db1-43ec-e3f5-1f847c5488e7"
      },
      "source": [
        "# Второй вариант\n",
        "# Записываем ввод данных\n",
        "space = float(input('Введите площадь квартиры'))\n",
        "residents = int(input('Введите количество зарегистрированных жильцов'))\n",
        "\n",
        "#  Проверяем с помощью конструкции try, except и выводим результат деления площади на количество жильцов или сообщение о том, что деление не получилось\n",
        "try:\n",
        "  print('На каждого жильца приходится по', space / residents, 'квадратных метров жилой площади')\n",
        "except ZeroDivisionError:\n",
        "  print('Вы ввели ноль')"
      ],
      "execution_count": null,
      "outputs": [
        {
          "output_type": "stream",
          "name": "stdout",
          "text": [
            "Введите площадь квартиры105\n",
            "Введите количество зарегистрированных жильцов0\n",
            "Вы ввели ноль\n"
          ]
        }
      ]
    }
  ]
}